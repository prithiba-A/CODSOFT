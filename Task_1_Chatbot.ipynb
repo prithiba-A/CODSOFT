{
  "cells": [
    {
      "cell_type": "markdown",
      "metadata": {
        "id": "view-in-github",
        "colab_type": "text"
      },
      "source": [
        "<a href=\"https://colab.research.google.com/github/prithiba-A/CODSOFT/blob/main/Task_1_Chatbot.ipynb\" target=\"_parent\"><img src=\"https://colab.research.google.com/assets/colab-badge.svg\" alt=\"Open In Colab\"/></a>"
      ]
    },
    {
      "cell_type": "code",
      "execution_count": null,
      "metadata": {
        "colab": {
          "base_uri": "https://localhost:8080/"
        },
        "id": "r17h4Mci5HbI",
        "outputId": "5b845fb7-ef1a-4f9a-9c33-971f70498c51"
      },
      "outputs": [
        {
          "metadata": {
            "tags": null
          },
          "name": "stdout",
          "output_type": "stream",
          "text": [
            "Chatbot: Hello! How can I help you today?\n",
            "Chatbot: I'm just a simple chatbot, but I'm doing well. How about you?\n",
            "Chatbot: Goodbye! Have a great day!\n",
            "Chatbot: I'm just a simple chatbot, but I'm doing well. How about you?\n"
          ]
        }
      ],
      "source": [
        "def simple_chatbot(user_input):\n",
        "    # Convert user input to lowercase for case-insensitive matching\n",
        "    user_input = user_input.lower()\n",
        "\n",
        "    # Define rules and responses\n",
        "    greetings = [\"hello\", \"hi\", \"hey\", \"greetings\"]\n",
        "    farewells = [\"bye\", \"goodbye\", \"see you\", \"farewell\"]\n",
        "    questions = [\"how are you\", \"what's up\", \"how's it going\"]\n",
        "    default_response = \"I'm sorry, I don't understand that.\"\n",
        "\n",
        "    # Check user input against predefined rules\n",
        "    if any(word in user_input for word in greetings):\n",
        "        return \"Hello! How can I help you today?\"\n",
        "    elif any(word in user_input for word in farewells):\n",
        "        return \"Goodbye! Have a great day!\"\n",
        "    elif any(word in user_input for word in questions):\n",
        "        return \"I'm just a simple chatbot, but I'm doing well. How about you?\"\n",
        "    else:\n",
        "        return default_response\n",
        "\n",
        "# Test the chatbot\n",
        "while True:\n",
        "    user_input = input(\"You: \")\n",
        "    if user_input.lower() == 'exit':\n",
        "        print(\"Chatbot: Goodbye!\")\n",
        "        break\n",
        "    response = simple_chatbot(user_input)\n",
        "    print(\"Chatbot:\", response)\n"
      ]
    }
  ],
  "metadata": {
    "colab": {
      "provenance": [],
      "authorship_tag": "ABX9TyPM8WM0r5IP+UcpTF3ax9YG",
      "include_colab_link": true
    },
    "kernelspec": {
      "display_name": "Python 3",
      "name": "python3"
    },
    "language_info": {
      "name": "python"
    }
  },
  "nbformat": 4,
  "nbformat_minor": 0
}